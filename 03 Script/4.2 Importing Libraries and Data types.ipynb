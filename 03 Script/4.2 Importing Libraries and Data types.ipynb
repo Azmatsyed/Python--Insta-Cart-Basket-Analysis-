{
 "cells": [
  {
   "cell_type": "markdown",
   "id": "4a64354b",
   "metadata": {},
   "source": [
    "## Importing Libraries"
   ]
  },
  {
   "cell_type": "code",
   "execution_count": 5,
   "id": "7bf818e8",
   "metadata": {},
   "outputs": [],
   "source": [
    "import pandas as pd\n",
    "import numpy as np\n",
    "import os\n"
   ]
  },
  {
   "cell_type": "markdown",
   "id": "3a7e1a7f",
   "metadata": {},
   "source": [
    "## Data type"
   ]
  },
  {
   "cell_type": "code",
   "execution_count": 29,
   "id": "c1c5c898",
   "metadata": {},
   "outputs": [],
   "source": [
    "#Code 3 different ways of reaching a result of 100 by adding or subtracting numeric variables\n",
    "a=50"
   ]
  },
  {
   "cell_type": "code",
   "execution_count": 8,
   "id": "0c3a45ba",
   "metadata": {},
   "outputs": [],
   "source": [
    "b=50"
   ]
  },
  {
   "cell_type": "code",
   "execution_count": 9,
   "id": "5f1e0c5d",
   "metadata": {},
   "outputs": [
    {
     "data": {
      "text/plain": [
       "100"
      ]
     },
     "execution_count": 9,
     "metadata": {},
     "output_type": "execute_result"
    }
   ],
   "source": [
    "a+b"
   ]
  },
  {
   "cell_type": "code",
   "execution_count": 10,
   "id": "4d82d019",
   "metadata": {},
   "outputs": [],
   "source": [
    "d=150"
   ]
  },
  {
   "cell_type": "code",
   "execution_count": 11,
   "id": "8a30c8e5",
   "metadata": {},
   "outputs": [
    {
     "data": {
      "text/plain": [
       "100"
      ]
     },
     "execution_count": 11,
     "metadata": {},
     "output_type": "execute_result"
    }
   ],
   "source": [
    "d-a"
   ]
  },
  {
   "cell_type": "code",
   "execution_count": 12,
   "id": "ca6ecb49",
   "metadata": {},
   "outputs": [],
   "source": [
    "x=60"
   ]
  },
  {
   "cell_type": "code",
   "execution_count": 13,
   "id": "5c6adf2d",
   "metadata": {},
   "outputs": [],
   "source": [
    "y=10"
   ]
  },
  {
   "cell_type": "code",
   "execution_count": 14,
   "id": "e553529d",
   "metadata": {},
   "outputs": [
    {
     "data": {
      "text/plain": [
       "100"
      ]
     },
     "execution_count": 14,
     "metadata": {},
     "output_type": "execute_result"
    }
   ],
   "source": [
    "(a+x)-y"
   ]
  },
  {
   "cell_type": "code",
   "execution_count": 15,
   "id": "b7aacb2f",
   "metadata": {},
   "outputs": [],
   "source": [
    "#Code 2 floating-point variables and divide them by each other\n",
    "e=21.5"
   ]
  },
  {
   "cell_type": "code",
   "execution_count": 16,
   "id": "f7a65882",
   "metadata": {},
   "outputs": [],
   "source": [
    "f=3.5"
   ]
  },
  {
   "cell_type": "code",
   "execution_count": 17,
   "id": "aaed9c49",
   "metadata": {},
   "outputs": [
    {
     "data": {
      "text/plain": [
       "6.142857142857143"
      ]
     },
     "execution_count": 17,
     "metadata": {},
     "output_type": "execute_result"
    }
   ],
   "source": [
    "e/f"
   ]
  },
  {
   "cell_type": "code",
   "execution_count": 19,
   "id": "b9b769d0",
   "metadata": {},
   "outputs": [],
   "source": [
    "#Construct a short word made of separate strings\n",
    "h='Hello, '"
   ]
  },
  {
   "cell_type": "code",
   "execution_count": 20,
   "id": "870ef462",
   "metadata": {},
   "outputs": [],
   "source": [
    "w='world'"
   ]
  },
  {
   "cell_type": "code",
   "execution_count": 21,
   "id": "0f712a26",
   "metadata": {},
   "outputs": [
    {
     "data": {
      "text/plain": [
       "'Hello, world'"
      ]
     },
     "execution_count": 21,
     "metadata": {},
     "output_type": "execute_result"
    }
   ],
   "source": [
    "h+w"
   ]
  },
  {
   "cell_type": "code",
   "execution_count": 26,
   "id": "f21cbb99",
   "metadata": {},
   "outputs": [],
   "source": [
    "#Construct 2 short sentences made of separate strings.\n",
    "Programming=\"Python is one of the most popular programming languages used by data analysts.\""
   ]
  },
  {
   "cell_type": "code",
   "execution_count": 27,
   "id": "b1a3718c",
   "metadata": {},
   "outputs": [],
   "source": [
    "Popular=\"Python is more versatile and can be used for a wider range of tasks, such as web development, data manipulation, and machine learning.\""
   ]
  },
  {
   "cell_type": "code",
   "execution_count": 28,
   "id": "3e0ee576",
   "metadata": {},
   "outputs": [
    {
     "data": {
      "text/plain": [
       "'Python is one of the most popular programming languages used by data analysts.Python is more versatile and can be used for a wider range of tasks, such as web development, data manipulation, and machine learning.'"
      ]
     },
     "execution_count": 28,
     "metadata": {},
     "output_type": "execute_result"
    }
   ],
   "source": [
    "Programming+Popular"
   ]
  },
  {
   "cell_type": "code",
   "execution_count": 30,
   "id": "90910ab0",
   "metadata": {},
   "outputs": [
    {
     "data": {
      "text/plain": [
       "'Python is one of the most popular programming languages used by data analysts.Python is more versatile and can be used for a wider range of tasks, such as web development, data manipulation, and machine learning.Python is one of the most popular programming languages used by data analysts.Python is more versatile and can be used for a wider range of tasks, such as web development, data manipulation, and machine learning.Python is one of the most popular programming languages used by data analysts.Python is more versatile and can be used for a wider range of tasks, such as web development, data manipulation, and machine learning.Python is one of the most popular programming languages used by data analysts.Python is more versatile and can be used for a wider range of tasks, such as web development, data manipulation, and machine learning.Python is one of the most popular programming languages used by data analysts.Python is more versatile and can be used for a wider range of tasks, such as web development, data manipulation, and machine learning.Python is one of the most popular programming languages used by data analysts.Python is more versatile and can be used for a wider range of tasks, such as web development, data manipulation, and machine learning.Python is one of the most popular programming languages used by data analysts.Python is more versatile and can be used for a wider range of tasks, such as web development, data manipulation, and machine learning.Python is one of the most popular programming languages used by data analysts.Python is more versatile and can be used for a wider range of tasks, such as web development, data manipulation, and machine learning.Python is one of the most popular programming languages used by data analysts.Python is more versatile and can be used for a wider range of tasks, such as web development, data manipulation, and machine learning.Python is one of the most popular programming languages used by data analysts.Python is more versatile and can be used for a wider range of tasks, such as web development, data manipulation, and machine learning.Python is one of the most popular programming languages used by data analysts.Python is more versatile and can be used for a wider range of tasks, such as web development, data manipulation, and machine learning.Python is one of the most popular programming languages used by data analysts.Python is more versatile and can be used for a wider range of tasks, such as web development, data manipulation, and machine learning.Python is one of the most popular programming languages used by data analysts.Python is more versatile and can be used for a wider range of tasks, such as web development, data manipulation, and machine learning.Python is one of the most popular programming languages used by data analysts.Python is more versatile and can be used for a wider range of tasks, such as web development, data manipulation, and machine learning.Python is one of the most popular programming languages used by data analysts.Python is more versatile and can be used for a wider range of tasks, such as web development, data manipulation, and machine learning.Python is one of the most popular programming languages used by data analysts.Python is more versatile and can be used for a wider range of tasks, such as web development, data manipulation, and machine learning.Python is one of the most popular programming languages used by data analysts.Python is more versatile and can be used for a wider range of tasks, such as web development, data manipulation, and machine learning.Python is one of the most popular programming languages used by data analysts.Python is more versatile and can be used for a wider range of tasks, such as web development, data manipulation, and machine learning.Python is one of the most popular programming languages used by data analysts.Python is more versatile and can be used for a wider range of tasks, such as web development, data manipulation, and machine learning.Python is one of the most popular programming languages used by data analysts.Python is more versatile and can be used for a wider range of tasks, such as web development, data manipulation, and machine learning.Python is one of the most popular programming languages used by data analysts.Python is more versatile and can be used for a wider range of tasks, such as web development, data manipulation, and machine learning.Python is one of the most popular programming languages used by data analysts.Python is more versatile and can be used for a wider range of tasks, such as web development, data manipulation, and machine learning.Python is one of the most popular programming languages used by data analysts.Python is more versatile and can be used for a wider range of tasks, such as web development, data manipulation, and machine learning.Python is one of the most popular programming languages used by data analysts.Python is more versatile and can be used for a wider range of tasks, such as web development, data manipulation, and machine learning.Python is one of the most popular programming languages used by data analysts.Python is more versatile and can be used for a wider range of tasks, such as web development, data manipulation, and machine learning.Python is one of the most popular programming languages used by data analysts.Python is more versatile and can be used for a wider range of tasks, such as web development, data manipulation, and machine learning.Python is one of the most popular programming languages used by data analysts.Python is more versatile and can be used for a wider range of tasks, such as web development, data manipulation, and machine learning.Python is one of the most popular programming languages used by data analysts.Python is more versatile and can be used for a wider range of tasks, such as web development, data manipulation, and machine learning.Python is one of the most popular programming languages used by data analysts.Python is more versatile and can be used for a wider range of tasks, such as web development, data manipulation, and machine learning.Python is one of the most popular programming languages used by data analysts.Python is more versatile and can be used for a wider range of tasks, such as web development, data manipulation, and machine learning.Python is one of the most popular programming languages used by data analysts.Python is more versatile and can be used for a wider range of tasks, such as web development, data manipulation, and machine learning.Python is one of the most popular programming languages used by data analysts.Python is more versatile and can be used for a wider range of tasks, such as web development, data manipulation, and machine learning.Python is one of the most popular programming languages used by data analysts.Python is more versatile and can be used for a wider range of tasks, such as web development, data manipulation, and machine learning.Python is one of the most popular programming languages used by data analysts.Python is more versatile and can be used for a wider range of tasks, such as web development, data manipulation, and machine learning.Python is one of the most popular programming languages used by data analysts.Python is more versatile and can be used for a wider range of tasks, such as web development, data manipulation, and machine learning.Python is one of the most popular programming languages used by data analysts.Python is more versatile and can be used for a wider range of tasks, such as web development, data manipulation, and machine learning.Python is one of the most popular programming languages used by data analysts.Python is more versatile and can be used for a wider range of tasks, such as web development, data manipulation, and machine learning.Python is one of the most popular programming languages used by data analysts.Python is more versatile and can be used for a wider range of tasks, such as web development, data manipulation, and machine learning.Python is one of the most popular programming languages used by data analysts.Python is more versatile and can be used for a wider range of tasks, such as web development, data manipulation, and machine learning.Python is one of the most popular programming languages used by data analysts.Python is more versatile and can be used for a wider range of tasks, such as web development, data manipulation, and machine learning.Python is one of the most popular programming languages used by data analysts.Python is more versatile and can be used for a wider range of tasks, such as web development, data manipulation, and machine learning.Python is one of the most popular programming languages used by data analysts.Python is more versatile and can be used for a wider range of tasks, such as web development, data manipulation, and machine learning.Python is one of the most popular programming languages used by data analysts.Python is more versatile and can be used for a wider range of tasks, such as web development, data manipulation, and machine learning.Python is one of the most popular programming languages used by data analysts.Python is more versatile and can be used for a wider range of tasks, such as web development, data manipulation, and machine learning.Python is one of the most popular programming languages used by data analysts.Python is more versatile and can be used for a wider range of tasks, such as web development, data manipulation, and machine learning.Python is one of the most popular programming languages used by data analysts.Python is more versatile and can be used for a wider range of tasks, such as web development, data manipulation, and machine learning.Python is one of the most popular programming languages used by data analysts.Python is more versatile and can be used for a wider range of tasks, such as web development, data manipulation, and machine learning.Python is one of the most popular programming languages used by data analysts.Python is more versatile and can be used for a wider range of tasks, such as web development, data manipulation, and machine learning.Python is one of the most popular programming languages used by data analysts.Python is more versatile and can be used for a wider range of tasks, such as web development, data manipulation, and machine learning.Python is one of the most popular programming languages used by data analysts.Python is more versatile and can be used for a wider range of tasks, such as web development, data manipulation, and machine learning.Python is one of the most popular programming languages used by data analysts.Python is more versatile and can be used for a wider range of tasks, such as web development, data manipulation, and machine learning.Python is one of the most popular programming languages used by data analysts.Python is more versatile and can be used for a wider range of tasks, such as web development, data manipulation, and machine learning.Python is one of the most popular programming languages used by data analysts.Python is more versatile and can be used for a wider range of tasks, such as web development, data manipulation, and machine learning.Python is one of the most popular programming languages used by data analysts.Python is more versatile and can be used for a wider range of tasks, such as web development, data manipulation, and machine learning.Python is one of the most popular programming languages used by data analysts.Python is more versatile and can be used for a wider range of tasks, such as web development, data manipulation, and machine learning.Python is one of the most popular programming languages used by data analysts.Python is more versatile and can be used for a wider range of tasks, such as web development, data manipulation, and machine learning.Python is one of the most popular programming languages used by data analysts.Python is more versatile and can be used for a wider range of tasks, such as web development, data manipulation, and machine learning.Python is one of the most popular programming languages used by data analysts.Python is more versatile and can be used for a wider range of tasks, such as web development, data manipulation, and machine learning.Python is one of the most popular programming languages used by data analysts.Python is more versatile and can be used for a wider range of tasks, such as web development, data manipulation, and machine learning.Python is one of the most popular programming languages used by data analysts.Python is more versatile and can be used for a wider range of tasks, such as web development, data manipulation, and machine learning.Python is one of the most popular programming languages used by data analysts.Python is more versatile and can be used for a wider range of tasks, such as web development, data manipulation, and machine learning.Python is one of the most popular programming languages used by data analysts.Python is more versatile and can be used for a wider range of tasks, such as web development, data manipulation, and machine learning.Python is one of the most popular programming languages used by data analysts.Python is more versatile and can be used for a wider range of tasks, such as web development, data manipulation, and machine learning.Python is one of the most popular programming languages used by data analysts.Python is more versatile and can be used for a wider range of tasks, such as web development, data manipulation, and machine learning.Python is one of the most popular programming languages used by data analysts.Python is more versatile and can be used for a wider range of tasks, such as web development, data manipulation, and machine learning.Python is one of the most popular programming languages used by data analysts.Python is more versatile and can be used for a wider range of tasks, such as web development, data manipulation, and machine learning.Python is one of the most popular programming languages used by data analysts.Python is more versatile and can be used for a wider range of tasks, such as web development, data manipulation, and machine learning.Python is one of the most popular programming languages used by data analysts.Python is more versatile and can be used for a wider range of tasks, such as web development, data manipulation, and machine learning.Python is one of the most popular programming languages used by data analysts.Python is more versatile and can be used for a wider range of tasks, such as web development, data manipulation, and machine learning.Python is one of the most popular programming languages used by data analysts.Python is more versatile and can be used for a wider range of tasks, such as web development, data manipulation, and machine learning.Python is one of the most popular programming languages used by data analysts.Python is more versatile and can be used for a wider range of tasks, such as web development, data manipulation, and machine learning.Python is one of the most popular programming languages used by data analysts.Python is more versatile and can be used for a wider range of tasks, such as web development, data manipulation, and machine learning.Python is one of the most popular programming languages used by data analysts.Python is more versatile and can be used for a wider range of tasks, such as web development, data manipulation, and machine learning.Python is one of the most popular programming languages used by data analysts.Python is more versatile and can be used for a wider range of tasks, such as web development, data manipulation, and machine learning.Python is one of the most popular programming languages used by data analysts.Python is more versatile and can be used for a wider range of tasks, such as web development, data manipulation, and machine learning.Python is one of the most popular programming languages used by data analysts.Python is more versatile and can be used for a wider range of tasks, such as web development, data manipulation, and machine learning.Python is one of the most popular programming languages used by data analysts.Python is more versatile and can be used for a wider range of tasks, such as web development, data manipulation, and machine learning.Python is one of the most popular programming languages used by data analysts.Python is more versatile and can be used for a wider range of tasks, such as web development, data manipulation, and machine learning.Python is one of the most popular programming languages used by data analysts.Python is more versatile and can be used for a wider range of tasks, such as web development, data manipulation, and machine learning.Python is one of the most popular programming languages used by data analysts.Python is more versatile and can be used for a wider range of tasks, such as web development, data manipulation, and machine learning.Python is one of the most popular programming languages used by data analysts.Python is more versatile and can be used for a wider range of tasks, such as web development, data manipulation, and machine learning.Python is one of the most popular programming languages used by data analysts.Python is more versatile and can be used for a wider range of tasks, such as web development, data manipulation, and machine learning.Python is one of the most popular programming languages used by data analysts.Python is more versatile and can be used for a wider range of tasks, such as web development, data manipulation, and machine learning.Python is one of the most popular programming languages used by data analysts.Python is more versatile and can be used for a wider range of tasks, such as web development, data manipulation, and machine learning.Python is one of the most popular programming languages used by data analysts.Python is more versatile and can be used for a wider range of tasks, such as web development, data manipulation, and machine learning.Python is one of the most popular programming languages used by data analysts.Python is more versatile and can be used for a wider range of tasks, such as web development, data manipulation, and machine learning.Python is one of the most popular programming languages used by data analysts.Python is more versatile and can be used for a wider range of tasks, such as web development, data manipulation, and machine learning.Python is one of the most popular programming languages used by data analysts.Python is more versatile and can be used for a wider range of tasks, such as web development, data manipulation, and machine learning.Python is one of the most popular programming languages used by data analysts.Python is more versatile and can be used for a wider range of tasks, such as web development, data manipulation, and machine learning.Python is one of the most popular programming languages used by data analysts.Python is more versatile and can be used for a wider range of tasks, such as web development, data manipulation, and machine learning.Python is one of the most popular programming languages used by data analysts.Python is more versatile and can be used for a wider range of tasks, such as web development, data manipulation, and machine learning.Python is one of the most popular programming languages used by data analysts.Python is more versatile and can be used for a wider range of tasks, such as web development, data manipulation, and machine learning.Python is one of the most popular programming languages used by data analysts.Python is more versatile and can be used for a wider range of tasks, such as web development, data manipulation, and machine learning.Python is one of the most popular programming languages used by data analysts.Python is more versatile and can be used for a wider range of tasks, such as web development, data manipulation, and machine learning.Python is one of the most popular programming languages used by data analysts.Python is more versatile and can be used for a wider range of tasks, such as web development, data manipulation, and machine learning.Python is one of the most popular programming languages used by data analysts.Python is more versatile and can be used for a wider range of tasks, such as web development, data manipulation, and machine learning.Python is one of the most popular programming languages used by data analysts.Python is more versatile and can be used for a wider range of tasks, such as web development, data manipulation, and machine learning.Python is one of the most popular programming languages used by data analysts.Python is more versatile and can be used for a wider range of tasks, such as web development, data manipulation, and machine learning.Python is one of the most popular programming languages used by data analysts.Python is more versatile and can be used for a wider range of tasks, such as web development, data manipulation, and machine learning.Python is one of the most popular programming languages used by data analysts.Python is more versatile and can be used for a wider range of tasks, such as web development, data manipulation, and machine learning.'"
      ]
     },
     "execution_count": 30,
     "metadata": {},
     "output_type": "execute_result"
    }
   ],
   "source": [
    "(Programming+Popular)*100"
   ]
  },
  {
   "cell_type": "code",
   "execution_count": null,
   "id": "a9e8c9c5",
   "metadata": {},
   "outputs": [],
   "source": []
  }
 ],
 "metadata": {
  "kernelspec": {
   "display_name": "Python 3 (ipykernel)",
   "language": "python",
   "name": "python3"
  },
  "language_info": {
   "codemirror_mode": {
    "name": "ipython",
    "version": 3
   },
   "file_extension": ".py",
   "mimetype": "text/x-python",
   "name": "python",
   "nbconvert_exporter": "python",
   "pygments_lexer": "ipython3",
   "version": "3.11.5"
  }
 },
 "nbformat": 4,
 "nbformat_minor": 5
}
